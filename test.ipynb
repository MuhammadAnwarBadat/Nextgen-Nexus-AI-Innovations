{
 "cells": [
  {
   "cell_type": "code",
   "execution_count": 5,
   "metadata": {},
   "outputs": [],
   "source": [
    "from dotenv import load_dotenv\n",
    "load_dotenv()\n",
    "import os\n",
    "clarifai_pat=os.getenv('CLARIFAI_PAT')"
   ]
  },
  {
   "cell_type": "code",
   "execution_count": 8,
   "metadata": {},
   "outputs": [],
   "source": [
    "from clarifai.client.model import Model\n",
    "\n",
    "prompt = \"A pakistani cricketer\"\n",
    "\n",
    "\n",
    "inference_params = dict(quality=\"standard\", size= '1024x1024')\n",
    "\n",
    "# Model Predict\n",
    "model_prediction = Model(\"https://clarifai.com/openai/dall-e/models/dall-e-3\").predict_by_bytes(prompt.encode(), input_type=\"text\", inference_params=inference_params)\n",
    "\n",
    "output_base64 = model_prediction.outputs[0].data.image.base64\n",
    "\n",
    "with open('image.png', 'wb') as f:\n",
    "    f.write(output_base64)"
   ]
  }
 ],
 "metadata": {
  "kernelspec": {
   "display_name": "Python 3",
   "language": "python",
   "name": "python3"
  },
  "language_info": {
   "codemirror_mode": {
    "name": "ipython",
    "version": 3
   },
   "file_extension": ".py",
   "mimetype": "text/x-python",
   "name": "python",
   "nbconvert_exporter": "python",
   "pygments_lexer": "ipython3",
   "version": "3.9.1"
  }
 },
 "nbformat": 4,
 "nbformat_minor": 2
}
